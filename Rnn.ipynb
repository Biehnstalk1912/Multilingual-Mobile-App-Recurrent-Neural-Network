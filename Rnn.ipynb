{
 "cells": [
  {
   "cell_type": "code",
   "execution_count": 193,
   "id": "75a95d21",
   "metadata": {},
   "outputs": [
    {
     "data": {
      "text/html": [
       "<div>\n",
       "<style scoped>\n",
       "    .dataframe tbody tr th:only-of-type {\n",
       "        vertical-align: middle;\n",
       "    }\n",
       "\n",
       "    .dataframe tbody tr th {\n",
       "        vertical-align: top;\n",
       "    }\n",
       "\n",
       "    .dataframe thead th {\n",
       "        text-align: right;\n",
       "    }\n",
       "</style>\n",
       "<table border=\"1\" class=\"dataframe\">\n",
       "  <thead>\n",
       "    <tr style=\"text-align: right;\">\n",
       "      <th></th>\n",
       "      <th>review_id</th>\n",
       "      <th>user_id</th>\n",
       "      <th>app_name</th>\n",
       "      <th>app_category</th>\n",
       "      <th>review_text</th>\n",
       "      <th>review_language</th>\n",
       "      <th>rating</th>\n",
       "      <th>review_date</th>\n",
       "      <th>verified_purchase</th>\n",
       "      <th>device_type</th>\n",
       "      <th>num_helpful_votes</th>\n",
       "      <th>user_age</th>\n",
       "      <th>user_country</th>\n",
       "      <th>user_gender</th>\n",
       "      <th>app_version</th>\n",
       "    </tr>\n",
       "  </thead>\n",
       "  <tbody>\n",
       "    <tr>\n",
       "      <th>0</th>\n",
       "      <td>1</td>\n",
       "      <td>1967825</td>\n",
       "      <td>MX Player</td>\n",
       "      <td>Travel &amp; Local</td>\n",
       "      <td>Qui doloribus consequuntur. Perspiciatis tempo...</td>\n",
       "      <td>no</td>\n",
       "      <td>1.3</td>\n",
       "      <td>2024-10-09 19:26:40</td>\n",
       "      <td>True</td>\n",
       "      <td>Android Tablet</td>\n",
       "      <td>65</td>\n",
       "      <td>14.0</td>\n",
       "      <td>China</td>\n",
       "      <td>Female</td>\n",
       "      <td>1.4</td>\n",
       "    </tr>\n",
       "    <tr>\n",
       "      <th>1</th>\n",
       "      <td>2</td>\n",
       "      <td>9242600</td>\n",
       "      <td>Tinder</td>\n",
       "      <td>Navigation</td>\n",
       "      <td>Great app but too many ads, consider premium v...</td>\n",
       "      <td>ru</td>\n",
       "      <td>1.6</td>\n",
       "      <td>2024-06-21 17:29:40</td>\n",
       "      <td>True</td>\n",
       "      <td>iPad</td>\n",
       "      <td>209</td>\n",
       "      <td>18.0</td>\n",
       "      <td>Germany</td>\n",
       "      <td>Male</td>\n",
       "      <td>8.9</td>\n",
       "    </tr>\n",
       "    <tr>\n",
       "      <th>2</th>\n",
       "      <td>3</td>\n",
       "      <td>7636477</td>\n",
       "      <td>Netflix</td>\n",
       "      <td>Dating</td>\n",
       "      <td>The interface could be better but overall good...</td>\n",
       "      <td>es</td>\n",
       "      <td>3.6</td>\n",
       "      <td>2024-10-31 13:47:12</td>\n",
       "      <td>True</td>\n",
       "      <td>iPad</td>\n",
       "      <td>163</td>\n",
       "      <td>67.0</td>\n",
       "      <td>Nigeria</td>\n",
       "      <td>Male</td>\n",
       "      <td>2.8.37.5926</td>\n",
       "    </tr>\n",
       "    <tr>\n",
       "      <th>3</th>\n",
       "      <td>4</td>\n",
       "      <td>209031</td>\n",
       "      <td>Venmo</td>\n",
       "      <td>Productivity</td>\n",
       "      <td>Latest update broke some features, please fix ...</td>\n",
       "      <td>vi</td>\n",
       "      <td>3.8</td>\n",
       "      <td>2025-03-12 06:16:22</td>\n",
       "      <td>True</td>\n",
       "      <td>iOS</td>\n",
       "      <td>664</td>\n",
       "      <td>66.0</td>\n",
       "      <td>India</td>\n",
       "      <td>Female</td>\n",
       "      <td>10.2</td>\n",
       "    </tr>\n",
       "    <tr>\n",
       "      <th>4</th>\n",
       "      <td>5</td>\n",
       "      <td>7190293</td>\n",
       "      <td>Google Drive</td>\n",
       "      <td>Education</td>\n",
       "      <td>Perfect for daily use, highly recommend to eve...</td>\n",
       "      <td>tl</td>\n",
       "      <td>3.2</td>\n",
       "      <td>2024-04-21 03:48:27</td>\n",
       "      <td>True</td>\n",
       "      <td>iPad</td>\n",
       "      <td>1197</td>\n",
       "      <td>40.0</td>\n",
       "      <td>South Korea</td>\n",
       "      <td>Prefer not to say</td>\n",
       "      <td>4.7</td>\n",
       "    </tr>\n",
       "  </tbody>\n",
       "</table>\n",
       "</div>"
      ],
      "text/plain": [
       "   review_id  user_id      app_name    app_category  \\\n",
       "0          1  1967825     MX Player  Travel & Local   \n",
       "1          2  9242600        Tinder      Navigation   \n",
       "2          3  7636477       Netflix          Dating   \n",
       "3          4   209031         Venmo    Productivity   \n",
       "4          5  7190293  Google Drive       Education   \n",
       "\n",
       "                                         review_text review_language  rating  \\\n",
       "0  Qui doloribus consequuntur. Perspiciatis tempo...              no     1.3   \n",
       "1  Great app but too many ads, consider premium v...              ru     1.6   \n",
       "2  The interface could be better but overall good...              es     3.6   \n",
       "3  Latest update broke some features, please fix ...              vi     3.8   \n",
       "4  Perfect for daily use, highly recommend to eve...              tl     3.2   \n",
       "\n",
       "           review_date  verified_purchase     device_type  num_helpful_votes  \\\n",
       "0  2024-10-09 19:26:40               True  Android Tablet                 65   \n",
       "1  2024-06-21 17:29:40               True            iPad                209   \n",
       "2  2024-10-31 13:47:12               True            iPad                163   \n",
       "3  2025-03-12 06:16:22               True             iOS                664   \n",
       "4  2024-04-21 03:48:27               True            iPad               1197   \n",
       "\n",
       "   user_age user_country        user_gender  app_version  \n",
       "0      14.0        China             Female          1.4  \n",
       "1      18.0      Germany               Male          8.9  \n",
       "2      67.0      Nigeria               Male  2.8.37.5926  \n",
       "3      66.0        India             Female         10.2  \n",
       "4      40.0  South Korea  Prefer not to say          4.7  "
      ]
     },
     "execution_count": 193,
     "metadata": {},
     "output_type": "execute_result"
    }
   ],
   "source": [
    "import pandas as pd\n",
    "data = pd.read_csv(\"multilingual_mobile_app_reviews_2025.csv\")\n",
    "data.head()\n"
   ]
  },
  {
   "cell_type": "code",
   "execution_count": 98,
   "id": "0ef72ab9",
   "metadata": {},
   "outputs": [
    {
     "data": {
      "text/plain": [
       "array([3.4, 2.7, 2.1])"
      ]
     },
     "execution_count": 98,
     "metadata": {},
     "output_type": "execute_result"
    }
   ],
   "source": [
    "import numpy as np\n",
    "np.random.seed(0)\n",
    "i_weight = np.random.rand(1, 2)\n",
    "h_weight =  np.random.rand(2, 2)\n",
    "o_weight = np.random.rand(2, 1)\n",
    "temps = data[\"rating\"].tail(3).to_numpy()\n",
    "temps\n",
    "\n"
   ]
  },
  {
   "cell_type": "code",
   "execution_count": 99,
   "id": "6c3bf54d",
   "metadata": {},
   "outputs": [
    {
     "data": {
      "text/plain": [
       "array([[3.4]])"
      ]
     },
     "execution_count": 99,
     "metadata": {},
     "output_type": "execute_result"
    }
   ],
   "source": [
    "x0 = temps[0].reshape(1, 1)\n",
    "x1 = temps[1].reshape(1, 1)\n",
    "x2 = temps[2].reshape(1, 1)\n",
    "x0"
   ]
  },
  {
   "cell_type": "code",
   "execution_count": 100,
   "id": "3356bf71",
   "metadata": {},
   "outputs": [
    {
     "data": {
      "text/plain": [
       "array([[1.86596591, 2.43164385]])"
      ]
     },
     "execution_count": 100,
     "metadata": {},
     "output_type": "execute_result"
    }
   ],
   "source": [
    "xi_0 = x0 @ i_weight\n",
    "xi_0"
   ]
  },
  {
   "cell_type": "code",
   "execution_count": 101,
   "id": "7e162614",
   "metadata": {},
   "outputs": [
    {
     "data": {
      "text/plain": [
       "array([[1.86596591, 2.43164385]])"
      ]
     },
     "execution_count": 101,
     "metadata": {},
     "output_type": "execute_result"
    }
   ],
   "source": [
    "xh_0 = np.maximum(0, xi_0)\n",
    "xh_0"
   ]
  },
  {
   "cell_type": "code",
   "execution_count": 102,
   "id": "3a5c90a0",
   "metadata": {},
   "outputs": [
    {
     "data": {
      "text/plain": [
       "array([[2.98499715]])"
      ]
     },
     "execution_count": 102,
     "metadata": {},
     "output_type": "execute_result"
    }
   ],
   "source": [
    "xo_0 = xh_0 @ o_weight\n",
    "xo_0"
   ]
  },
  {
   "cell_type": "code",
   "execution_count": 103,
   "id": "35ef2d98",
   "metadata": {},
   "outputs": [
    {
     "data": {
      "text/plain": [
       "array([[5.62070174]])"
      ]
     },
     "execution_count": 103,
     "metadata": {},
     "output_type": "execute_result"
    }
   ],
   "source": [
    "xi_1 = x1 @ i_weight\n",
    "xh = xh_0 @ h_weight\n",
    "xh_1 = np.maximum(0, xh + xi_1)\n",
    "xo_1 = xh_1 @ o_weight\n",
    "xo_1"
   ]
  },
  {
   "cell_type": "code",
   "execution_count": 104,
   "id": "72a8b7d3",
   "metadata": {},
   "outputs": [
    {
     "data": {
      "text/plain": [
       "array([[8.01017162]])"
      ]
     },
     "execution_count": 104,
     "metadata": {},
     "output_type": "execute_result"
    }
   ],
   "source": [
    "xi_2 = x2 @ i_weight\n",
    "xh = xh_1 @ h_weight\n",
    "xh_2 = np.maximum(0, xh + xi_2)\n",
    "xo_2 = xh_2 @ o_weight\n",
    "xo_2"
   ]
  },
  {
   "cell_type": "code",
   "execution_count": 105,
   "id": "e1a3ac04",
   "metadata": {},
   "outputs": [
    {
     "data": {
      "text/plain": [
       "[<matplotlib.lines.Line2D at 0x16fc2c47d10>]"
      ]
     },
     "execution_count": 105,
     "metadata": {},
     "output_type": "execute_result"
    },
    {
     "data": {
      "image/png": "[encoded data removed]",
      "text/plain": [
       "<Figure size 640x480 with 1 Axes>"
      ]
     },
     "metadata": {},
     "output_type": "display_data"
    }
   ],
   "source": [
    "import matplotlib.pyplot as plt\n",
    "temps = np.arange(-10, 10, 0.10)\n",
    "plt.plot(temps, np.tanh(temps))"
   ]
  },
  {
   "cell_type": "code",
   "execution_count": 106,
   "id": "62eb2072",
   "metadata": {},
   "outputs": [],
   "source": [
    "from sympy import diff, symbols, exp\n",
    "x = symbols(\"x\")\n",
    "sympy_tanh = (exp(x) - exp(-x))/ (exp(x) + exp(-x))\n",
    "tanh_deriv = diff(sympy_tanh, x)"
   ]
  },
  {
   "cell_type": "code",
   "execution_count": 107,
   "id": "b5464384",
   "metadata": {},
   "outputs": [
    {
     "data": {
      "text/plain": [
       "[<matplotlib.lines.Line2D at 0x16fc2cc3b30>]"
      ]
     },
     "execution_count": 107,
     "metadata": {},
     "output_type": "execute_result"
    },
    {
     "data": {
      "image/png": "[encoded data removed]",
      "text/plain": [
       "<Figure size 640x480 with 1 Axes>"
      ]
     },
     "metadata": {},
     "output_type": "display_data"
    }
   ],
   "source": [
    "plt.plot(temps, 1 - np.tanh(temps) ** 2)"
   ]
  },
  {
   "cell_type": "code",
   "execution_count": 108,
   "id": "9704f4d0",
   "metadata": {},
   "outputs": [],
   "source": [
    "np.random.seed(0)\n",
    "\n",
    "i_weight = np.random.rand(1, 5) / 5 - 0.10\n",
    "h_weight = np.random.rand(5, 5) / 5 - 0.10\n",
    "h_bias = np.random.rand(1, 5) / 5 - 0.10\n",
    "\n",
    "o_weight = np.random.rand(5, 1) * 50\n",
    "o_bias = np.random.rand(1, 1)\n"
   ]
  },
  {
   "cell_type": "code",
   "execution_count": 109,
   "id": "01266131",
   "metadata": {},
   "outputs": [],
   "source": [
    "outputs = np.zeros(3)\n",
    "hiddens = np.zeros((3, 5))\n",
    "prev_hidden = None\n",
    "sequence = data[\"rating\"].tail(3).to_numpy()\n",
    "\n",
    "for i in range(3):\n",
    "    x = sequence[i].reshape(1, 1)\n",
    "    xi = x @ i_weight \n",
    "    if prev_hidden is None:\n",
    "        xh = xi\n",
    "    else:\n",
    "        xh = xi + prev_hidden @ h_weight + h_bias \n",
    "    xh = np.tanh(xh)\n",
    "    prev_hidden = xh\n",
    "    hiddens[i, :] = xh\n",
    "    xo = (xh @ o_weight) + o_bias  \n",
    "    outputs[i] = xo.item()\n"
   ]
  },
  {
   "cell_type": "code",
   "execution_count": 110,
   "id": "6b053894",
   "metadata": {},
   "outputs": [
    {
     "data": {
      "text/plain": [
       "array([7.65440354, 4.40867935, 2.88757189])"
      ]
     },
     "execution_count": 110,
     "metadata": {},
     "output_type": "execute_result"
    }
   ],
   "source": [
    "outputs"
   ]
  },
  {
   "cell_type": "code",
   "execution_count": 111,
   "id": "3c35032a",
   "metadata": {},
   "outputs": [
    {
     "data": {
      "text/plain": [
       "array([[ 0.033181  ,  0.14529323,  0.06976558,  0.03051109, -0.05186815],\n",
       "       [-0.0155747 ,  0.16867764,  0.05104824,  0.05866684, -0.14593883],\n",
       "       [-0.01988098,  0.15417756,  0.02542544,  0.05090088, -0.13970597]])"
      ]
     },
     "execution_count": 111,
     "metadata": {},
     "output_type": "execute_result"
    }
   ],
   "source": [
    "hiddens"
   ]
  },
  {
   "cell_type": "code",
   "execution_count": 151,
   "id": "8be2f6af",
   "metadata": {},
   "outputs": [],
   "source": [
    "def mse(actual, predicted):\n",
    "    return np.mean((actual - predicted) ** 2)\n",
    "def mse_grad(actual, predicted):\n",
    "    return (predicted - actual)\n"
   ]
  },
  {
   "cell_type": "code",
   "execution_count": 113,
   "id": "3f87c15f",
   "metadata": {},
   "outputs": [
    {
     "data": {
      "text/plain": [
       "array([ 6.35440354,  2.80867935, -0.71242811])"
      ]
     },
     "execution_count": 113,
     "metadata": {},
     "output_type": "execute_result"
    }
   ],
   "source": [
    "actuals = [1.3, 1.6, 3.6]\n",
    "loss_grad = mse_grad(actuals, outputs)\n",
    "loss_grad"
   ]
  },
  {
   "cell_type": "code",
   "execution_count": 114,
   "id": "303253be",
   "metadata": {},
   "outputs": [],
   "source": [
    "next_hidden = None\n",
    "o_weight_grad, o_bias_grad, h_weight_grad, h_bias_grad, i_weight_grad = [0] * 5\n",
    "for i in range(2, -1, -1):\n",
    "    l_grad = loss_grad[i].reshape(1, 1)\n",
    "    o_weight_grad += hiddens[i][:, np.newaxis] @ l_grad\n",
    "    o_bias_grad += np.mean(l_grad)\n",
    "    o_grad = l_grad @ o_weight.T\n",
    "    if next_hidden is None:\n",
    "        h_grad = o_grad\n",
    "    else:\n",
    "        h_grad = o_grad + next_hidden @ h_weight.T\n",
    "    tanh_deriv = 1 - hiddens[i, :][np.newaxis, :]\n",
    "    h_grad = np.multiply(h_grad, tanh_deriv)\n",
    "    next_hidden = h_grad\n",
    "    if i > 0:\n",
    "        h_weight_grad += hiddens[i - 1, :][:, np.newaxis] @ h_grad\n",
    "        h_bias_grad += np.mean(h_grad)\n",
    "    i_weight_grad += sequence[i].reshape(1, 1).T @ h_grad\n"
   ]
  },
  {
   "cell_type": "code",
   "execution_count": 115,
   "id": "8ace3e14",
   "metadata": {},
   "outputs": [
    {
     "data": {
      "text/plain": [
       "array([[ 878.51073914,  736.41082943,  813.69533406, 1284.52198543,\n",
       "        1021.63382112]])"
      ]
     },
     "execution_count": 115,
     "metadata": {},
     "output_type": "execute_result"
    }
   ],
   "source": [
    "i_weight_grad"
   ]
  },
  {
   "cell_type": "code",
   "execution_count": 116,
   "id": "7803531d",
   "metadata": {},
   "outputs": [],
   "source": [
    "lr = 1e-6\n",
    "i_weight -= i_weight_grad * lr\n",
    "h_weight -= h_weight_grad * lr\n",
    "h_bias -= h_bias_grad * lr\n",
    "o_weight -= o_weight_grad * lr\n",
    "o_bias -= o_bias_grad * lr"
   ]
  },
  {
   "cell_type": "code",
   "execution_count": 117,
   "id": "06fc735d",
   "metadata": {},
   "outputs": [
    {
     "data": {
      "text/plain": [
       "array([[ 0.00888419,  0.04230146,  0.01973898,  0.00769211, -0.01629067]])"
      ]
     },
     "execution_count": 117,
     "metadata": {},
     "output_type": "execute_result"
    }
   ],
   "source": [
    "i_weight"
   ]
  },
  {
   "cell_type": "code",
   "execution_count": 178,
   "id": "6dc68669",
   "metadata": {},
   "outputs": [
    {
     "name": "stdout",
     "output_type": "stream",
     "text": [
      "Data shapes:\n",
      "Train X: (1260, 2), Train Y: (1260, 1)\n",
      "Valid X: (270, 2), Valid Y: (270, 1)\n",
      "Target range: 1.000 to 5.000\n"
     ]
    },
    {
     "name": "stderr",
     "output_type": "stream",
     "text": [
      "c:\\Users\\Kille\\anaconda3\\Lib\\site-packages\\numpy\\core\\fromnumeric.py:59: FutureWarning: 'DataFrame.swapaxes' is deprecated and will be removed in a future version. Please use 'DataFrame.transpose' instead.\n",
      "  return bound(*args, **kwds)\n"
     ]
    }
   ],
   "source": [
    "from sklearn.preprocessing import StandardScaler\n",
    "import math\n",
    "import numpy as np\n",
    "\n",
    "# Sample data setup (replace with your actual data loading)\n",
    "# Assuming you have 'data' DataFrame with the required columns\n",
    "PREDICTORS = [\"user_age\", \"num_helpful_votes\"]\n",
    "TARGET = \"rating\"\n",
    "\n",
    "# Data preprocessing\n",
    "scaler = StandardScaler()\n",
    "# Ensure no NaN values in the data before scaling\n",
    "if 'data' in locals():\n",
    "    data = data.dropna()  # Remove any NaN values\n",
    "    data[PREDICTORS] = scaler.fit_transform(data[PREDICTORS])\n",
    "\n",
    "    # Split data\n",
    "    np.random.seed(0)\n",
    "    split_data = np.split(data, [int(0.70 * len(data)), int(0.85 * len(data))])\n",
    "    (train_x, train_y), (valid_x, valid_y), (test_x, test_y) = [\n",
    "        [d[PREDICTORS].to_numpy(), d[[TARGET]].to_numpy()] for d in split_data\n",
    "    ]\n",
    "    \n",
    "    print(\"Data shapes:\")\n",
    "    print(f\"Train X: {train_x.shape}, Train Y: {train_y.shape}\")\n",
    "    print(f\"Valid X: {valid_x.shape}, Valid Y: {valid_y.shape}\")\n",
    "    print(f\"Target range: {train_y.min():.3f} to {train_y.max():.3f}\")"
   ]
  },
  {
   "cell_type": "code",
   "execution_count": 165,
   "id": "8e1807ca",
   "metadata": {},
   "outputs": [],
   "source": [
    "import numpy as np\n",
    "import math\n",
    "\n",
    "def mse(actual, predicted):\n",
    "    return np.mean((actual - predicted) ** 2)\n",
    "\n",
    "def mse_grad(actual, predicted):\n",
    "    # Add small epsilon to prevent division by zero\n",
    "    return 2 * (predicted - actual) / actual.shape[0]\n",
    "\n",
    "def init_params(layer_conf):\n",
    "    layers = []\n",
    "    for i in range(1, len(layer_conf)):\n",
    "        np.random.seed(0)\n",
    "        k = 1/math.sqrt(layer_conf[i][\"hidden\"])\n",
    "        i_weight = np.random.rand(layer_conf[i-1][\"units\"], layer_conf[i][\"hidden\"]) * 2 * k - k\n",
    "\n",
    "        h_weight = np.random.rand(layer_conf[i][\"hidden\"], layer_conf[i][\"hidden\"]) * 2 * k - k\n",
    "        h_bias = np.random.rand(1, layer_conf[i][\"hidden\"]) * 2 * k - k\n",
    "\n",
    "        o_weight = np.random.rand(layer_conf[i][\"hidden\"], layer_conf[i][\"output\"]) * 2 * k - k\n",
    "        o_bias = np.random.rand(1, layer_conf[i][\"output\"]) * 2 * k - k\n",
    "\n",
    "        layers.append(\n",
    "            [i_weight, h_weight, h_bias, o_weight, o_bias]\n",
    "        )\n",
    "    return layers"
   ]
  },
  {
   "cell_type": "code",
   "execution_count": 166,
   "id": "cb26f5fb",
   "metadata": {},
   "outputs": [],
   "source": [
    "layers_conf = [\n",
    "    {\"type\": \"input\", \"units\": 2},\n",
    "    {\"type\": \"rnn\", \"hidden\": 4, \"output\": 1}\n",
    "]"
   ]
  },
  {
   "cell_type": "code",
   "execution_count": null,
   "id": "b2098195",
   "metadata": {},
   "outputs": [],
   "source": [
    "def forward(x, layers):\n",
    "    hiddens = []\n",
    "    outputs = []\n",
    "    for i in range(len(layers)):\n",
    "        i_weight, h_weight, h_bias, o_weight, o_bias = layers[i]\n",
    "        hidden = np.zeros((x.shape[0], i_weight.shape[1]))\n",
    "        output = np.zeros((x.shape[0], o_weight.shape[1]))\n",
    "        \n",
    "        for j in range(x.shape[0]):\n",
    "            input_x = x[j, :][np.newaxis, :] @ i_weight\n",
    "            if j == 0:\n",
    "                prev_hidden = np.zeros((1, h_weight.shape[0]))\n",
    "            else:\n",
    "                prev_hidden = hidden[j-1, :][np.newaxis, :]\n",
    "            hidden_x = input_x + prev_hidden @ h_weight + h_bias\n",
    "            hidden_x = np.tanh(hidden_x)\n",
    "            hidden[j, :] = hidden_x\n",
    "            output_x = hidden_x @ o_weight + o_bias\n",
    "            output[j, :] = output_x\n",
    "        hiddens.append(hidden)\n",
    "        outputs.append(output)\n",
    "    return hiddens, outputs[-1]"
   ]
  },
  {
   "cell_type": "code",
   "execution_count": 195,
   "id": "93e1c275",
   "metadata": {},
   "outputs": [],
   "source": [
    "def backward(layers, x, lr, grad, hiddens):\n",
    "    for i in range(len(layers)):\n",
    "        i_weight, h_weight, h_bias, o_weight, o_bias = layers[i]\n",
    "        hidden = hiddens[i]\n",
    "        next_h_grad = None\n",
    "        i_weight_grad = np.zeros_like(i_weight)\n",
    "        h_weight_grad = np.zeros_like(h_weight)\n",
    "        h_bias_grad = np.zeros_like(h_bias)\n",
    "        o_weight_grad = np.zeros_like(o_weight)\n",
    "        o_bias_grad = np.zeros_like(o_bias)\n",
    "\n",
    "        for j in range(x.shape[0] - 1, -1, -1):\n",
    "            out_grad = grad[j,:][np.newaxis, :]\n",
    "            o_weight_grad += hidden[j,:][:, np.newaxis] @ out_grad\n",
    "            o_bias_grad += out_grad\n",
    "            h_grad = out_grad @ o_weight.T\n",
    "            if j < x.shape[0] - 1:\n",
    "                hh_grad = next_h_grad @ h_weight.T\n",
    "                h_grad += hh_grad\n",
    "            tanh_deriv = 1 - hidden[j][np.newaxis,:] ** 2\n",
    "            h_grad = np.multiply(h_grad, tanh_deriv)\n",
    "            next_h_grad = h_grad.copy()\n",
    "            if j > 0:\n",
    "                h_weight_grad += hidden[j-1][:, np.newaxis] @ h_grad\n",
    "                h_bias_grad += h_grad\n",
    "\n",
    "            i_weight_grad += x[j,:][:,np.newaxis] @ h_grad\n",
    "        lr = lr / x.shape[0]\n",
    "        i_weight -= i_weight_grad * lr\n",
    "        h_weight -= h_weight_grad * lr\n",
    "        h_bias -= h_bias_grad * lr\n",
    "        o_weight -= o_weight_grad * lr\n",
    "        o_bias -= o_bias_grad * lr\n",
    "        layers[i] = [i_weight, h_weight, h_bias, o_weight, o_bias]\n",
    "    return layers"
   ]
  },
  {
   "cell_type": "code",
   "execution_count": 198,
   "id": "490443db",
   "metadata": {},
   "outputs": [
    {
     "name": "stdout",
     "output_type": "stream",
     "text": [
      "Epoch: 0 train loss 6.869410127688549 valid loss 3.0034497085723006\n",
      "Epoch: 50 train loss 1.3188024538730816 valid loss 1.2661270394614437\n",
      "Epoch: 100 train loss 1.2996743266645345 valid loss 1.2375744899706844\n",
      "Epoch: 150 train loss 1.2939009412724176 valid loss 1.2317302436859507\n",
      "Epoch: 200 train loss 1.291461504734016 valid loss 1.2297346958059119\n",
      "Epoch: 250 train loss 1.2901533770755167 valid loss 1.2288276808850835\n"
     ]
    }
   ],
   "source": [
    "epochs = 250\n",
    "lr = 1e-3\n",
    "\n",
    "layer_conf = [\n",
    "    {\"type\":\"input\", \"units\": 2},\n",
    "    {\"type\": \"rnn\", \"hidden\": 128, \"output\": 1}\n",
    "]\n",
    "layers = init_params(layer_conf)\n",
    "\n",
    "for epoch in range(epochs + 1):\n",
    "    sequence_len = 14\n",
    "    epoch_loss = 0\n",
    "    for j in range(train_x.shape[0] - sequence_len):\n",
    "        seq_x = train_x[j:(j+sequence_len),]\n",
    "        seq_y = train_y[j:(j+sequence_len),]\n",
    "        hiddens, outputs = forward(seq_x, layers)\n",
    "        grad = mse_grad(seq_y, outputs)\n",
    "        params = backward(layers, seq_x, lr, grad, hiddens)\n",
    "        epoch_loss += mse(seq_y, outputs)\n",
    "\n",
    "    if epoch % 50 == 0:\n",
    "        sequence_len = 7\n",
    "        valid_loss = 0\n",
    "        for j in range(valid_x.shape[0] - sequence_len):\n",
    "            seq_x = valid_x[j:(j+sequence_len),]\n",
    "            seq_y = valid_y[j:(j+sequence_len),]\n",
    "            _, outputs = forward(seq_x, layers)\n",
    "            valid_loss += mse(seq_y, outputs)\n",
    "\n",
    "        print(f\"Epoch: {epoch} train loss {epoch_loss / len(train_x)} valid loss {valid_loss / len(valid_x)}\")"
   ]
  }
 ],
 "metadata": {
  "kernelspec": {
   "display_name": "base",
   "language": "python",
   "name": "python3"
  },
  "language_info": {
   "codemirror_mode": {
    "name": "ipython",
    "version": 3
   },
   "file_extension": ".py",
   "mimetype": "text/x-python",
   "name": "python",
   "nbconvert_exporter": "python",
   "pygments_lexer": "ipython3",
   "version": "3.12.4"
  }
 },
 "nbformat": 4,
 "nbformat_minor": 5
}
